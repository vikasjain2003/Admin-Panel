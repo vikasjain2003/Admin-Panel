{
  "nbformat": 4,
  "nbformat_minor": 0,
  "metadata": {
    "colab": {
      "provenance": [],
      "include_colab_link": true
    },
    "kernelspec": {
      "name": "python3",
      "display_name": "Python 3"
    },
    "language_info": {
      "name": "python"
    }
  },
  "cells": [
    {
      "cell_type": "markdown",
      "metadata": {
        "id": "view-in-github",
        "colab_type": "text"
      },
      "source": [
        "<a href=\"https://colab.research.google.com/github/vikasjain2003/Admin-Panel/blob/main/Vikas_List_Comprehension_CS3.ipynb\" target=\"_parent\"><img src=\"https://colab.research.google.com/assets/colab-badge.svg\" alt=\"Open In Colab\"/></a>"
      ]
    },
    {
      "cell_type": "code",
      "source": [
        "x = [i for i in range(15)]\n",
        "print(x)"
      ],
      "metadata": {
        "id": "xokNcbjt5elV",
        "colab": {
          "base_uri": "https://localhost:8080/"
        },
        "outputId": "45884fe3-31d6-41e9-a459-e2ee7b272f3c"
      },
      "execution_count": null,
      "outputs": [
        {
          "output_type": "stream",
          "name": "stdout",
          "text": [
            "[0, 1, 2, 3, 4, 5, 6, 7, 8, 9, 10, 11, 12, 13, 14]\n"
          ]
        }
      ]
    },
    {
      "cell_type": "code",
      "source": [
        "a = [4,6,7,3,2]\n",
        "b = [x*2 for x in a if x > 5]"
      ],
      "metadata": {
        "id": "37EPuY6j2vTW"
      },
      "execution_count": null,
      "outputs": []
    },
    {
      "cell_type": "code",
      "source": [
        "my_list = [2, 5, 8, 11, 15]\n",
        "new_list = [x*2 if x < 10 else x+1 for x in my_list]\n",
        "print(new_list)"
      ],
      "metadata": {
        "id": "KzcpXZGu6di7",
        "colab": {
          "base_uri": "https://localhost:8080/"
        },
        "outputId": "6eb06a52-c7cd-45ca-af9c-be796c4b7cb3"
      },
      "execution_count": null,
      "outputs": [
        {
          "output_type": "stream",
          "name": "stdout",
          "text": [
            "[4, 10, 16, 12, 16]\n"
          ]
        }
      ]
    },
    {
      "cell_type": "code",
      "source": [
        "my_list = [i for i in range(1, 30) if i%2==0 if i%5==0]\n",
        "print(my_list)"
      ],
      "metadata": {
        "id": "csY5o9lL6nTD",
        "colab": {
          "base_uri": "https://localhost:8080/"
        },
        "outputId": "dc5469d9-ea9b-4e2b-f2e7-8130e0aa1399"
      },
      "execution_count": null,
      "outputs": [
        {
          "output_type": "stream",
          "name": "stdout",
          "text": [
            "[10, 20]\n"
          ]
        }
      ]
    },
    {
      "cell_type": "code",
      "source": [
        "names = ['Ch','Dh','Eh','cb','Tb','Td']\n",
        "new_names = [name for name in names if name.lower().startswith('c')]\n",
        "print(new_names)\n"
      ],
      "metadata": {
        "id": "sXPcOeYm27yN",
        "colab": {
          "base_uri": "https://localhost:8080/"
        },
        "outputId": "ff599ed1-ad82-4199-a21b-e7b3830d5d7c"
      },
      "execution_count": null,
      "outputs": [
        {
          "output_type": "stream",
          "name": "stdout",
          "text": [
            "['Ch', 'cb']\n"
          ]
        }
      ]
    },
    {
      "cell_type": "code",
      "source": [
        "new_list = [num * 2 for num in range(5)]"
      ],
      "metadata": {
        "id": "-XlDO7XA34tf"
      },
      "execution_count": null,
      "outputs": []
    },
    {
      "cell_type": "code",
      "source": [
        "new_list = [num for num in range(50) if  num > 20 and num % 2 == 0]\n",
        "print(new_list)"
      ],
      "metadata": {
        "id": "CErX4Qvj3-rW",
        "colab": {
          "base_uri": "https://localhost:8080/"
        },
        "outputId": "cdd7786c-9ddc-4704-d658-9eb3b2e03dbb"
      },
      "execution_count": null,
      "outputs": [
        {
          "output_type": "stream",
          "name": "stdout",
          "text": [
            "[22, 24, 26, 28, 30, 32, 34, 36, 38, 40, 42, 44, 46, 48]\n"
          ]
        }
      ]
    },
    {
      "cell_type": "code",
      "source": [
        "fave_language_chars = [letter for letter in \"Python\"]\n",
        "print(fave_language_chars)"
      ],
      "metadata": {
        "id": "z8uvh7m74Fuj",
        "colab": {
          "base_uri": "https://localhost:8080/"
        },
        "outputId": "c8575278-756b-4cfa-d7f8-70440d92c80b"
      },
      "execution_count": null,
      "outputs": [
        {
          "output_type": "stream",
          "name": "stdout",
          "text": [
            "['P', 'y', 't', 'h', 'o', 'n']\n"
          ]
        }
      ]
    },
    {
      "cell_type": "code",
      "execution_count": null,
      "metadata": {
        "id": "xoC4UeWtx_Mx",
        "colab": {
          "base_uri": "https://localhost:8080/"
        },
        "outputId": "f47a7eee-7649-4d3a-8abf-2a21379835da"
      },
      "outputs": [
        {
          "output_type": "stream",
          "name": "stdout",
          "text": [
            "[7, 14, 21, 28, 35, 42, 49, 56, 63, 70, 77, 84, 91, 98, 105, 112, 119, 126, 133, 140, 147, 154, 161, 168, 175, 182, 189, 196, 203, 210, 217, 224, 231, 238, 245, 252, 259, 266, 273, 280, 287, 294, 301, 308, 315, 322, 329, 336, 343, 350, 357, 364, 371, 378, 385, 392, 399, 406, 413, 420, 427, 434, 441, 448, 455, 462, 469, 476, 483, 490, 497, 504, 511, 518, 525, 532, 539, 546, 553, 560, 567, 574, 581, 588, 595, 602, 609, 616, 623, 630, 637, 644, 651, 658, 665, 672, 679, 686, 693, 700, 707, 714, 721, 728, 735, 742, 749, 756, 763, 770, 777, 784, 791, 798, 805, 812, 819, 826, 833, 840, 847, 854, 861, 868, 875, 882, 889, 896, 903, 910, 917, 924, 931, 938, 945, 952, 959, 966, 973, 980, 987, 994]\n"
          ]
        }
      ],
      "source": [
        "'''\n",
        "Find all of the numbers from 1-1000 that are divisible by 7\n",
        "\n",
        "'''\n",
        "r = [ i for i in range(1,1000) if i%7 ==0]\n",
        "print(r)\n"
      ]
    },
    {
      "cell_type": "code",
      "source": [
        "'''\n",
        "Find all of the numbers from 1-1000 that have a 3 in them\n",
        "'''\n",
        "r = [i for i in range(1, 1001) if '3' in str(i)]\n",
        "print(r)"
      ],
      "metadata": {
        "id": "rQkcovqcyQbw",
        "colab": {
          "base_uri": "https://localhost:8080/"
        },
        "outputId": "fb9d001c-558b-4479-df1f-ebe77592426b"
      },
      "execution_count": null,
      "outputs": [
        {
          "output_type": "stream",
          "name": "stdout",
          "text": [
            "[3, 13, 23, 30, 31, 32, 33, 34, 35, 36, 37, 38, 39, 43, 53, 63, 73, 83, 93, 103, 113, 123, 130, 131, 132, 133, 134, 135, 136, 137, 138, 139, 143, 153, 163, 173, 183, 193, 203, 213, 223, 230, 231, 232, 233, 234, 235, 236, 237, 238, 239, 243, 253, 263, 273, 283, 293, 300, 301, 302, 303, 304, 305, 306, 307, 308, 309, 310, 311, 312, 313, 314, 315, 316, 317, 318, 319, 320, 321, 322, 323, 324, 325, 326, 327, 328, 329, 330, 331, 332, 333, 334, 335, 336, 337, 338, 339, 340, 341, 342, 343, 344, 345, 346, 347, 348, 349, 350, 351, 352, 353, 354, 355, 356, 357, 358, 359, 360, 361, 362, 363, 364, 365, 366, 367, 368, 369, 370, 371, 372, 373, 374, 375, 376, 377, 378, 379, 380, 381, 382, 383, 384, 385, 386, 387, 388, 389, 390, 391, 392, 393, 394, 395, 396, 397, 398, 399, 403, 413, 423, 430, 431, 432, 433, 434, 435, 436, 437, 438, 439, 443, 453, 463, 473, 483, 493, 503, 513, 523, 530, 531, 532, 533, 534, 535, 536, 537, 538, 539, 543, 553, 563, 573, 583, 593, 603, 613, 623, 630, 631, 632, 633, 634, 635, 636, 637, 638, 639, 643, 653, 663, 673, 683, 693, 703, 713, 723, 730, 731, 732, 733, 734, 735, 736, 737, 738, 739, 743, 753, 763, 773, 783, 793, 803, 813, 823, 830, 831, 832, 833, 834, 835, 836, 837, 838, 839, 843, 853, 863, 873, 883, 893, 903, 913, 923, 930, 931, 932, 933, 934, 935, 936, 937, 938, 939, 943, 953, 963, 973, 983, 993]\n"
          ]
        }
      ]
    },
    {
      "cell_type": "code",
      "source": [
        "'''\n",
        "Count the number of spaces in a string\n",
        "'''\n",
        "some_string = 'the slow solid squid swam sumptuously through the slimy swamp'\n",
        "r = [i for i in some_string if i==' ' in some_string]\n",
        "print(len(r))"
      ],
      "metadata": {
        "id": "gIz_poFJybA0",
        "colab": {
          "base_uri": "https://localhost:8080/"
        },
        "outputId": "bc0b5f78-e182-4f59-98dc-73921024703a"
      },
      "execution_count": null,
      "outputs": [
        {
          "output_type": "stream",
          "name": "stdout",
          "text": [
            "9\n"
          ]
        }
      ]
    },
    {
      "cell_type": "code",
      "source": [
        "'''\n",
        "Create a list of all the consonants in the string \"Yellow Yaks like yelling and yawning and yesturday they yodled while eating yuky yams\"\n",
        "'''\n",
        "sentence = \"Yellow Yaks like yelling and yawning and yesturday they yodled while eating yuky yams\"\n",
        "r = [i for i in sentence if i not in ['a', 'e', 'i', 'o', 'u', ' ']]\n",
        "print(r)\n"
      ],
      "metadata": {
        "id": "PFOkO8c3yoRD",
        "colab": {
          "base_uri": "https://localhost:8080/"
        },
        "outputId": "b9d2229d-c30e-4da2-9f4a-81a76b82d2b3"
      },
      "execution_count": null,
      "outputs": [
        {
          "output_type": "stream",
          "name": "stdout",
          "text": [
            "['Y', 'l', 'l', 'w', 'Y', 'k', 's', 'l', 'k', 'y', 'l', 'l', 'n', 'g', 'n', 'd', 'y', 'w', 'n', 'n', 'g', 'n', 'd', 'y', 's', 't', 'r', 'd', 'y', 't', 'h', 'y', 'y', 'd', 'l', 'd', 'w', 'h', 'l', 't', 'n', 'g', 'y', 'k', 'y', 'y', 'm', 's']\n"
          ]
        }
      ]
    },
    {
      "cell_type": "code",
      "source": [
        "'''\n",
        " Get the index and the value as a tuple for items in the list [\"hi\", 4, 8.99, 'apple', ('t,b','n')].  Result would look like [(index, value), (index, value)]\n",
        " '''\n"
      ],
      "metadata": {
        "id": "b7nRCAHEy1dK",
        "colab": {
          "base_uri": "https://localhost:8080/",
          "height": 35
        },
        "outputId": "e903884c-27b2-4f56-d486-a93245eef568"
      },
      "execution_count": null,
      "outputs": [
        {
          "output_type": "execute_result",
          "data": {
            "text/plain": [
              "'\\n Get the index and the value as a tuple for items in the list [\"hi\", 4, 8.99, \\'apple\\', (\\'t,b\\',\\'n\\')].  Result would look like [(index, value), (index, value)]\\n '"
            ],
            "application/vnd.google.colaboratory.intrinsic+json": {
              "type": "string"
            }
          },
          "metadata": {},
          "execution_count": 29
        }
      ]
    },
    {
      "cell_type": "code",
      "source": [
        "'''\n",
        "Find the common numbers in two lists (without using a tuple or set) list_a = [1, 2, 3, 4], list_b = [2, 3, 4, 5]\n",
        "'''\n",
        "list_a = [1, 2, 3, 4]\n",
        "list_b = [2, 3, 4, 5]\n",
        "\n",
        "r = [i for i in list_a if i in list_b  ]\n",
        "print( r)\n",
        "\n"
      ],
      "metadata": {
        "id": "BruGk2mxy6q9",
        "colab": {
          "base_uri": "https://localhost:8080/"
        },
        "outputId": "bdf22404-648f-4224-8619-eb4fb91abcf4"
      },
      "execution_count": null,
      "outputs": [
        {
          "output_type": "stream",
          "name": "stdout",
          "text": [
            "[2, 3, 4]\n"
          ]
        }
      ]
    },
    {
      "cell_type": "code",
      "source": [
        "'''\n",
        "Get only the numbers in a sentence like 'In 1984 there were 13 instances of a protest with over 1000 people attending'.  Result is a list of numbers like [3,4,5]\n",
        "'''\n",
        "sentence = 'In 1984 there were 13 instances of a protest with over 1000 people attending'\n",
        "words = sentence.split()\n",
        "r = [i for i in words if not i.isalpha()]\n",
        "print(r)"
      ],
      "metadata": {
        "id": "JU9uVJq2zBVB",
        "colab": {
          "base_uri": "https://localhost:8080/"
        },
        "outputId": "e8e65b08-60d6-48cc-97e4-c6f97463099d"
      },
      "execution_count": null,
      "outputs": [
        {
          "output_type": "stream",
          "name": "stdout",
          "text": [
            "['1984', '13', '1000']\n"
          ]
        }
      ]
    },
    {
      "cell_type": "code",
      "source": [
        "'''\n",
        "Produce a list of tuples consisting of only the matching numbers in these lists list_a = [1, 2, 3,4,5,6,7,8,9], list_b = [2, 7, 1, 12].  Result would look like (4,4), (12,12)\n",
        "'''\n",
        "list_a = [1, 2, 3,4,5,6,7,8,9]\n",
        "list_b = [2, 7, 1, 12]\n",
        "r = [i for i in list_a if i in list_b  ]\n",
        "print( r)"
      ],
      "metadata": {
        "id": "lc9rl2Nazz1O",
        "colab": {
          "base_uri": "https://localhost:8080/"
        },
        "outputId": "9f3f9d0c-1189-45c2-bb9b-b085207751ed"
      },
      "execution_count": null,
      "outputs": [
        {
          "output_type": "stream",
          "name": "stdout",
          "text": [
            "[1, 2, 7]\n"
          ]
        }
      ]
    },
    {
      "cell_type": "code",
      "source": [
        "'''Find all of the words in a string that are less than 4 letters'''\n",
        "sentence = 'On a summer day somner smith went simming in the sun and his red skin stung'\n",
        "words = sentence.split()\n",
        "\n",
        "r = [i for i in words if len(words)<3]\n",
        "print(r)"
      ],
      "metadata": {
        "id": "Lga5eySb0tJ-",
        "colab": {
          "base_uri": "https://localhost:8080/"
        },
        "outputId": "8c7ac980-e89a-4d06-bf1d-2be277376f88"
      },
      "execution_count": 5,
      "outputs": [
        {
          "output_type": "stream",
          "name": "stdout",
          "text": [
            "[]\n"
          ]
        }
      ]
    }
  ]
}